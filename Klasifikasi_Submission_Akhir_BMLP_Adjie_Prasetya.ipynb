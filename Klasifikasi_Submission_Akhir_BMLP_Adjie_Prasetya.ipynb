{
 "cells": [
  {
   "cell_type": "markdown",
   "metadata": {},
   "source": [
    "# **1. Import Library**"
   ]
  },
  {
   "cell_type": "code",
   "execution_count": 91,
   "metadata": {},
   "outputs": [],
   "source": [
    "import pandas as pd\n",
    "import numpy as np\n",
    "import seaborn as sns\n",
    "import matplotlib.pyplot as plt\n",
    "\n",
    "from sklearn.pipeline import Pipeline\n",
    "from sklearn.compose import ColumnTransformer\n",
    "from sklearn.impute import SimpleImputer\n",
    "from sklearn.linear_model import LinearRegression\n",
    "from sklearn.model_selection import train_test_split, GridSearchCV, RandomizedSearchCV\n",
    "from sklearn.preprocessing import LabelEncoder, StandardScaler, MinMaxScaler, OneHotEncoder\n",
    "from sklearn.neighbors import KNeighborsClassifier\n",
    "from sklearn.tree import DecisionTreeClassifier\n",
    "from sklearn.ensemble import RandomForestClassifier\n",
    "from sklearn.svm import SVC\n",
    "from sklearn.naive_bayes import GaussianNB\n",
    "from sklearn.metrics import confusion_matrix, accuracy_score, precision_score, recall_score, f1_score\n",
    "from sklearn.metrics import classification_report, confusion_matrix, roc_auc_score, ConfusionMatrixDisplay\n",
    "from skopt import BayesSearchCV\n",
    "from skopt.space import Integer, Real\n",
    "from imblearn.over_sampling import SMOTE\n",
    "from sklearn.metrics import classification_report\n",
    "from xgboost import XGBClassifier\n",
    "\n",
    "# JCOPML Package\n",
    "from jcopml.plot import plot_missing_value\n",
    "from jcopml.pipeline import num_pipe, cat_pipe\n",
    "from jcopml.tuning import random_search_params as rsp\n",
    "from jcopml.feature_importance import mean_loss_decrease\n",
    "from jcopml.feature_importance import mean_score_decrease\n",
    "from jcopml.tuning import bayes_search_params as bsp\n",
    "from jcopml.tuning import grid_search_params as gsp"
   ]
  },
  {
   "cell_type": "markdown",
   "metadata": {},
   "source": [
    "# **2. Memuat Dataset dari Hasil Clustering**"
   ]
  },
  {
   "cell_type": "code",
   "execution_count": 117,
   "metadata": {},
   "outputs": [
    {
     "data": {
      "text/html": [
       "<div>\n",
       "<style scoped>\n",
       "    .dataframe tbody tr th:only-of-type {\n",
       "        vertical-align: middle;\n",
       "    }\n",
       "\n",
       "    .dataframe tbody tr th {\n",
       "        vertical-align: top;\n",
       "    }\n",
       "\n",
       "    .dataframe thead th {\n",
       "        text-align: right;\n",
       "    }\n",
       "</style>\n",
       "<table border=\"1\" class=\"dataframe\">\n",
       "  <thead>\n",
       "    <tr style=\"text-align: right;\">\n",
       "      <th></th>\n",
       "      <th>PassengerId</th>\n",
       "      <th>HomePlanet</th>\n",
       "      <th>CryoSleep</th>\n",
       "      <th>Cabin</th>\n",
       "      <th>Destination</th>\n",
       "      <th>Age</th>\n",
       "      <th>VIP</th>\n",
       "      <th>RoomService</th>\n",
       "      <th>FoodCourt</th>\n",
       "      <th>ShoppingMall</th>\n",
       "      <th>Spa</th>\n",
       "      <th>VRDeck</th>\n",
       "      <th>Name</th>\n",
       "      <th>Transported</th>\n",
       "    </tr>\n",
       "  </thead>\n",
       "  <tbody>\n",
       "    <tr>\n",
       "      <th>0</th>\n",
       "      <td>0001_01</td>\n",
       "      <td>Europa</td>\n",
       "      <td>False</td>\n",
       "      <td>B/0/P</td>\n",
       "      <td>TRAPPIST-1e</td>\n",
       "      <td>39.0</td>\n",
       "      <td>False</td>\n",
       "      <td>0.0</td>\n",
       "      <td>0.0</td>\n",
       "      <td>0.0</td>\n",
       "      <td>0.0</td>\n",
       "      <td>0.0</td>\n",
       "      <td>Maham Ofracculy</td>\n",
       "      <td>False</td>\n",
       "    </tr>\n",
       "    <tr>\n",
       "      <th>1</th>\n",
       "      <td>0002_01</td>\n",
       "      <td>Earth</td>\n",
       "      <td>False</td>\n",
       "      <td>F/0/S</td>\n",
       "      <td>TRAPPIST-1e</td>\n",
       "      <td>24.0</td>\n",
       "      <td>False</td>\n",
       "      <td>109.0</td>\n",
       "      <td>9.0</td>\n",
       "      <td>25.0</td>\n",
       "      <td>549.0</td>\n",
       "      <td>44.0</td>\n",
       "      <td>Juanna Vines</td>\n",
       "      <td>True</td>\n",
       "    </tr>\n",
       "    <tr>\n",
       "      <th>2</th>\n",
       "      <td>0003_01</td>\n",
       "      <td>Europa</td>\n",
       "      <td>False</td>\n",
       "      <td>A/0/S</td>\n",
       "      <td>TRAPPIST-1e</td>\n",
       "      <td>58.0</td>\n",
       "      <td>True</td>\n",
       "      <td>43.0</td>\n",
       "      <td>3576.0</td>\n",
       "      <td>0.0</td>\n",
       "      <td>6715.0</td>\n",
       "      <td>49.0</td>\n",
       "      <td>Altark Susent</td>\n",
       "      <td>False</td>\n",
       "    </tr>\n",
       "    <tr>\n",
       "      <th>3</th>\n",
       "      <td>0003_02</td>\n",
       "      <td>Europa</td>\n",
       "      <td>False</td>\n",
       "      <td>A/0/S</td>\n",
       "      <td>TRAPPIST-1e</td>\n",
       "      <td>33.0</td>\n",
       "      <td>False</td>\n",
       "      <td>0.0</td>\n",
       "      <td>1283.0</td>\n",
       "      <td>371.0</td>\n",
       "      <td>3329.0</td>\n",
       "      <td>193.0</td>\n",
       "      <td>Solam Susent</td>\n",
       "      <td>False</td>\n",
       "    </tr>\n",
       "    <tr>\n",
       "      <th>4</th>\n",
       "      <td>0004_01</td>\n",
       "      <td>Earth</td>\n",
       "      <td>False</td>\n",
       "      <td>F/1/S</td>\n",
       "      <td>TRAPPIST-1e</td>\n",
       "      <td>16.0</td>\n",
       "      <td>False</td>\n",
       "      <td>303.0</td>\n",
       "      <td>70.0</td>\n",
       "      <td>151.0</td>\n",
       "      <td>565.0</td>\n",
       "      <td>2.0</td>\n",
       "      <td>Willy Santantines</td>\n",
       "      <td>True</td>\n",
       "    </tr>\n",
       "    <tr>\n",
       "      <th>...</th>\n",
       "      <td>...</td>\n",
       "      <td>...</td>\n",
       "      <td>...</td>\n",
       "      <td>...</td>\n",
       "      <td>...</td>\n",
       "      <td>...</td>\n",
       "      <td>...</td>\n",
       "      <td>...</td>\n",
       "      <td>...</td>\n",
       "      <td>...</td>\n",
       "      <td>...</td>\n",
       "      <td>...</td>\n",
       "      <td>...</td>\n",
       "      <td>...</td>\n",
       "    </tr>\n",
       "    <tr>\n",
       "      <th>8688</th>\n",
       "      <td>9276_01</td>\n",
       "      <td>Europa</td>\n",
       "      <td>False</td>\n",
       "      <td>A/98/P</td>\n",
       "      <td>55 Cancri e</td>\n",
       "      <td>41.0</td>\n",
       "      <td>True</td>\n",
       "      <td>0.0</td>\n",
       "      <td>6819.0</td>\n",
       "      <td>0.0</td>\n",
       "      <td>1643.0</td>\n",
       "      <td>74.0</td>\n",
       "      <td>Gravior Noxnuther</td>\n",
       "      <td>False</td>\n",
       "    </tr>\n",
       "    <tr>\n",
       "      <th>8689</th>\n",
       "      <td>9278_01</td>\n",
       "      <td>Earth</td>\n",
       "      <td>True</td>\n",
       "      <td>G/1499/S</td>\n",
       "      <td>PSO J318.5-22</td>\n",
       "      <td>18.0</td>\n",
       "      <td>False</td>\n",
       "      <td>0.0</td>\n",
       "      <td>0.0</td>\n",
       "      <td>0.0</td>\n",
       "      <td>0.0</td>\n",
       "      <td>0.0</td>\n",
       "      <td>Kurta Mondalley</td>\n",
       "      <td>False</td>\n",
       "    </tr>\n",
       "    <tr>\n",
       "      <th>8690</th>\n",
       "      <td>9279_01</td>\n",
       "      <td>Earth</td>\n",
       "      <td>False</td>\n",
       "      <td>G/1500/S</td>\n",
       "      <td>TRAPPIST-1e</td>\n",
       "      <td>26.0</td>\n",
       "      <td>False</td>\n",
       "      <td>0.0</td>\n",
       "      <td>0.0</td>\n",
       "      <td>1872.0</td>\n",
       "      <td>1.0</td>\n",
       "      <td>0.0</td>\n",
       "      <td>Fayey Connon</td>\n",
       "      <td>True</td>\n",
       "    </tr>\n",
       "    <tr>\n",
       "      <th>8691</th>\n",
       "      <td>9280_01</td>\n",
       "      <td>Europa</td>\n",
       "      <td>False</td>\n",
       "      <td>E/608/S</td>\n",
       "      <td>55 Cancri e</td>\n",
       "      <td>32.0</td>\n",
       "      <td>False</td>\n",
       "      <td>0.0</td>\n",
       "      <td>1049.0</td>\n",
       "      <td>0.0</td>\n",
       "      <td>353.0</td>\n",
       "      <td>3235.0</td>\n",
       "      <td>Celeon Hontichre</td>\n",
       "      <td>False</td>\n",
       "    </tr>\n",
       "    <tr>\n",
       "      <th>8692</th>\n",
       "      <td>9280_02</td>\n",
       "      <td>Europa</td>\n",
       "      <td>False</td>\n",
       "      <td>E/608/S</td>\n",
       "      <td>TRAPPIST-1e</td>\n",
       "      <td>44.0</td>\n",
       "      <td>False</td>\n",
       "      <td>126.0</td>\n",
       "      <td>4688.0</td>\n",
       "      <td>0.0</td>\n",
       "      <td>0.0</td>\n",
       "      <td>12.0</td>\n",
       "      <td>Propsh Hontichre</td>\n",
       "      <td>True</td>\n",
       "    </tr>\n",
       "  </tbody>\n",
       "</table>\n",
       "<p>8693 rows × 14 columns</p>\n",
       "</div>"
      ],
      "text/plain": [
       "     PassengerId HomePlanet CryoSleep     Cabin    Destination   Age    VIP  \\\n",
       "0        0001_01     Europa     False     B/0/P    TRAPPIST-1e  39.0  False   \n",
       "1        0002_01      Earth     False     F/0/S    TRAPPIST-1e  24.0  False   \n",
       "2        0003_01     Europa     False     A/0/S    TRAPPIST-1e  58.0   True   \n",
       "3        0003_02     Europa     False     A/0/S    TRAPPIST-1e  33.0  False   \n",
       "4        0004_01      Earth     False     F/1/S    TRAPPIST-1e  16.0  False   \n",
       "...          ...        ...       ...       ...            ...   ...    ...   \n",
       "8688     9276_01     Europa     False    A/98/P    55 Cancri e  41.0   True   \n",
       "8689     9278_01      Earth      True  G/1499/S  PSO J318.5-22  18.0  False   \n",
       "8690     9279_01      Earth     False  G/1500/S    TRAPPIST-1e  26.0  False   \n",
       "8691     9280_01     Europa     False   E/608/S    55 Cancri e  32.0  False   \n",
       "8692     9280_02     Europa     False   E/608/S    TRAPPIST-1e  44.0  False   \n",
       "\n",
       "      RoomService  FoodCourt  ShoppingMall     Spa  VRDeck               Name  \\\n",
       "0             0.0        0.0           0.0     0.0     0.0    Maham Ofracculy   \n",
       "1           109.0        9.0          25.0   549.0    44.0       Juanna Vines   \n",
       "2            43.0     3576.0           0.0  6715.0    49.0      Altark Susent   \n",
       "3             0.0     1283.0         371.0  3329.0   193.0       Solam Susent   \n",
       "4           303.0       70.0         151.0   565.0     2.0  Willy Santantines   \n",
       "...           ...        ...           ...     ...     ...                ...   \n",
       "8688          0.0     6819.0           0.0  1643.0    74.0  Gravior Noxnuther   \n",
       "8689          0.0        0.0           0.0     0.0     0.0    Kurta Mondalley   \n",
       "8690          0.0        0.0        1872.0     1.0     0.0       Fayey Connon   \n",
       "8691          0.0     1049.0           0.0   353.0  3235.0   Celeon Hontichre   \n",
       "8692        126.0     4688.0           0.0     0.0    12.0   Propsh Hontichre   \n",
       "\n",
       "      Transported  \n",
       "0           False  \n",
       "1            True  \n",
       "2           False  \n",
       "3           False  \n",
       "4            True  \n",
       "...           ...  \n",
       "8688        False  \n",
       "8689        False  \n",
       "8690         True  \n",
       "8691        False  \n",
       "8692         True  \n",
       "\n",
       "[8693 rows x 14 columns]"
      ]
     },
     "execution_count": 117,
     "metadata": {},
     "output_type": "execute_result"
    }
   ],
   "source": [
    "# Sumber data = https://www.kaggle.com/competitions/tfug-mysuru-spaceship-titanic/data\n",
    "df = pd.read_csv(\"data/spaceship_titanic.csv\")\n",
    "df"
   ]
  },
  {
   "cell_type": "code",
   "execution_count": 118,
   "metadata": {},
   "outputs": [
    {
     "name": "stdout",
     "output_type": "stream",
     "text": [
      "\n",
      "Dataset Information :\n",
      "<class 'pandas.core.frame.DataFrame'>\n",
      "RangeIndex: 8693 entries, 0 to 8692\n",
      "Data columns (total 14 columns):\n",
      " #   Column        Non-Null Count  Dtype  \n",
      "---  ------        --------------  -----  \n",
      " 0   PassengerId   8693 non-null   object \n",
      " 1   HomePlanet    8492 non-null   object \n",
      " 2   CryoSleep     8476 non-null   object \n",
      " 3   Cabin         8494 non-null   object \n",
      " 4   Destination   8511 non-null   object \n",
      " 5   Age           8514 non-null   float64\n",
      " 6   VIP           8490 non-null   object \n",
      " 7   RoomService   8512 non-null   float64\n",
      " 8   FoodCourt     8510 non-null   float64\n",
      " 9   ShoppingMall  8485 non-null   float64\n",
      " 10  Spa           8510 non-null   float64\n",
      " 11  VRDeck        8505 non-null   float64\n",
      " 12  Name          8493 non-null   object \n",
      " 13  Transported   8693 non-null   bool   \n",
      "dtypes: bool(1), float64(6), object(7)\n",
      "memory usage: 891.5+ KB\n"
     ]
    }
   ],
   "source": [
    "print(\"\\nDataset Information :\")\n",
    "df.info()"
   ]
  },
  {
   "cell_type": "code",
   "execution_count": 119,
   "metadata": {},
   "outputs": [
    {
     "data": {
      "image/png": "[encoded data removed]",
      "text/plain": [
       "<Figure size 1200x600 with 1 Axes>"
      ]
     },
     "metadata": {},
     "output_type": "display_data"
    }
   ],
   "source": [
    "# Cek data yang hilang\n",
    "df_transposed = df.T\n",
    "\n",
    "plt.figure(figsize=(12, 6))  \n",
    "sns.heatmap(df_transposed.isnull(), cbar=False, cmap='viridis')  \n",
    "plt.title(\"Missing Values Heatmap\")\n",
    "plt.xlabel(\"Index\")\n",
    "plt.ylabel(\"Columns\")\n",
    "plt.show()"
   ]
  },
  {
   "cell_type": "code",
   "execution_count": 120,
   "metadata": {},
   "outputs": [
    {
     "name": "stderr",
     "output_type": "stream",
     "text": [
      "C:\\Users\\windows\\AppData\\Local\\Temp\\ipykernel_18300\\3578716597.py:4: FutureWarning: Downcasting object dtype arrays on .fillna, .ffill, .bfill is deprecated and will change in a future version. Call result.infer_objects(copy=False) instead. To opt-in to the future behavior, set `pd.set_option('future.no_silent_downcasting', True)`\n",
      "  df[column] = df[column].fillna(most_frequent_value).infer_objects(copy=False)\n"
     ]
    }
   ],
   "source": [
    "# Isi data yang kosong dengan nilai yang paling banyak muncul\n",
    "for column in df.columns:\n",
    "    most_frequent_value = df[column].mode()[0]\n",
    "    df[column] = df[column].fillna(most_frequent_value).infer_objects(copy=False)"
   ]
  },
  {
   "cell_type": "code",
   "execution_count": 121,
   "metadata": {},
   "outputs": [
    {
     "data": {
      "image/png": "[encoded data removed]",
      "text/plain": [
       "<Figure size 1200x600 with 1 Axes>"
      ]
     },
     "metadata": {},
     "output_type": "display_data"
    }
   ],
   "source": [
    "# Jika tidak ada warna kuning lagi maka data sudah terisi semuanya\n",
    "df_transposed = df.T\n",
    "\n",
    "plt.figure(figsize=(12, 6))  \n",
    "sns.heatmap(df_transposed.isnull(), cbar=False, cmap='viridis')  \n",
    "plt.title(\"Missing Values Heatmap\")\n",
    "plt.xlabel(\"Index\")\n",
    "plt.ylabel(\"Columns\")\n",
    "plt.show()"
   ]
  },
  {
   "cell_type": "code",
   "execution_count": 122,
   "metadata": {},
   "outputs": [
    {
     "data": {
      "text/html": [
       "<div>\n",
       "<style scoped>\n",
       "    .dataframe tbody tr th:only-of-type {\n",
       "        vertical-align: middle;\n",
       "    }\n",
       "\n",
       "    .dataframe tbody tr th {\n",
       "        vertical-align: top;\n",
       "    }\n",
       "\n",
       "    .dataframe thead th {\n",
       "        text-align: right;\n",
       "    }\n",
       "</style>\n",
       "<table border=\"1\" class=\"dataframe\">\n",
       "  <thead>\n",
       "    <tr style=\"text-align: right;\">\n",
       "      <th></th>\n",
       "      <th>PassengerId</th>\n",
       "      <th>HomePlanet</th>\n",
       "      <th>CryoSleep</th>\n",
       "      <th>Cabin</th>\n",
       "      <th>Destination</th>\n",
       "      <th>Age</th>\n",
       "      <th>VIP</th>\n",
       "      <th>RoomService</th>\n",
       "      <th>FoodCourt</th>\n",
       "      <th>ShoppingMall</th>\n",
       "      <th>Spa</th>\n",
       "      <th>VRDeck</th>\n",
       "      <th>Name</th>\n",
       "      <th>Transported</th>\n",
       "    </tr>\n",
       "  </thead>\n",
       "  <tbody>\n",
       "    <tr>\n",
       "      <th>0</th>\n",
       "      <td>0001_01</td>\n",
       "      <td>Europa</td>\n",
       "      <td>False</td>\n",
       "      <td>B/0/P</td>\n",
       "      <td>TRAPPIST-1e</td>\n",
       "      <td>39.0</td>\n",
       "      <td>False</td>\n",
       "      <td>0.0</td>\n",
       "      <td>0.0</td>\n",
       "      <td>0.0</td>\n",
       "      <td>0.0</td>\n",
       "      <td>0.0</td>\n",
       "      <td>Maham Ofracculy</td>\n",
       "      <td>False</td>\n",
       "    </tr>\n",
       "    <tr>\n",
       "      <th>1</th>\n",
       "      <td>0002_01</td>\n",
       "      <td>Earth</td>\n",
       "      <td>False</td>\n",
       "      <td>F/0/S</td>\n",
       "      <td>TRAPPIST-1e</td>\n",
       "      <td>24.0</td>\n",
       "      <td>False</td>\n",
       "      <td>109.0</td>\n",
       "      <td>9.0</td>\n",
       "      <td>25.0</td>\n",
       "      <td>549.0</td>\n",
       "      <td>44.0</td>\n",
       "      <td>Juanna Vines</td>\n",
       "      <td>True</td>\n",
       "    </tr>\n",
       "    <tr>\n",
       "      <th>2</th>\n",
       "      <td>0003_01</td>\n",
       "      <td>Europa</td>\n",
       "      <td>False</td>\n",
       "      <td>A/0/S</td>\n",
       "      <td>TRAPPIST-1e</td>\n",
       "      <td>58.0</td>\n",
       "      <td>True</td>\n",
       "      <td>43.0</td>\n",
       "      <td>3576.0</td>\n",
       "      <td>0.0</td>\n",
       "      <td>6715.0</td>\n",
       "      <td>49.0</td>\n",
       "      <td>Altark Susent</td>\n",
       "      <td>False</td>\n",
       "    </tr>\n",
       "    <tr>\n",
       "      <th>3</th>\n",
       "      <td>0003_02</td>\n",
       "      <td>Europa</td>\n",
       "      <td>False</td>\n",
       "      <td>A/0/S</td>\n",
       "      <td>TRAPPIST-1e</td>\n",
       "      <td>33.0</td>\n",
       "      <td>False</td>\n",
       "      <td>0.0</td>\n",
       "      <td>1283.0</td>\n",
       "      <td>371.0</td>\n",
       "      <td>3329.0</td>\n",
       "      <td>193.0</td>\n",
       "      <td>Solam Susent</td>\n",
       "      <td>False</td>\n",
       "    </tr>\n",
       "    <tr>\n",
       "      <th>4</th>\n",
       "      <td>0004_01</td>\n",
       "      <td>Earth</td>\n",
       "      <td>False</td>\n",
       "      <td>F/1/S</td>\n",
       "      <td>TRAPPIST-1e</td>\n",
       "      <td>16.0</td>\n",
       "      <td>False</td>\n",
       "      <td>303.0</td>\n",
       "      <td>70.0</td>\n",
       "      <td>151.0</td>\n",
       "      <td>565.0</td>\n",
       "      <td>2.0</td>\n",
       "      <td>Willy Santantines</td>\n",
       "      <td>True</td>\n",
       "    </tr>\n",
       "  </tbody>\n",
       "</table>\n",
       "</div>"
      ],
      "text/plain": [
       "  PassengerId HomePlanet  CryoSleep  Cabin  Destination   Age    VIP  \\\n",
       "0     0001_01     Europa      False  B/0/P  TRAPPIST-1e  39.0  False   \n",
       "1     0002_01      Earth      False  F/0/S  TRAPPIST-1e  24.0  False   \n",
       "2     0003_01     Europa      False  A/0/S  TRAPPIST-1e  58.0   True   \n",
       "3     0003_02     Europa      False  A/0/S  TRAPPIST-1e  33.0  False   \n",
       "4     0004_01      Earth      False  F/1/S  TRAPPIST-1e  16.0  False   \n",
       "\n",
       "   RoomService  FoodCourt  ShoppingMall     Spa  VRDeck               Name  \\\n",
       "0          0.0        0.0           0.0     0.0     0.0    Maham Ofracculy   \n",
       "1        109.0        9.0          25.0   549.0    44.0       Juanna Vines   \n",
       "2         43.0     3576.0           0.0  6715.0    49.0      Altark Susent   \n",
       "3          0.0     1283.0         371.0  3329.0   193.0       Solam Susent   \n",
       "4        303.0       70.0         151.0   565.0     2.0  Willy Santantines   \n",
       "\n",
       "   Transported  \n",
       "0        False  \n",
       "1         True  \n",
       "2        False  \n",
       "3        False  \n",
       "4         True  "
      ]
     },
     "execution_count": 122,
     "metadata": {},
     "output_type": "execute_result"
    }
   ],
   "source": [
    "df.head()"
   ]
  },
  {
   "cell_type": "code",
   "execution_count": 123,
   "metadata": {},
   "outputs": [
    {
     "data": {
      "text/plain": [
       "Index(['PassengerId', 'HomePlanet', 'CryoSleep', 'Cabin', 'Destination', 'Age',\n",
       "       'VIP', 'RoomService', 'FoodCourt', 'ShoppingMall', 'Spa', 'VRDeck',\n",
       "       'Name', 'Transported'],\n",
       "      dtype='object')"
      ]
     },
     "execution_count": 123,
     "metadata": {},
     "output_type": "execute_result"
    }
   ],
   "source": [
    "df.columns"
   ]
  },
  {
   "cell_type": "code",
   "execution_count": 124,
   "metadata": {},
   "outputs": [],
   "source": [
    "# Drop kolom yang tidak digunakan\n",
    "df.drop(columns=[\"PassengerId\", \"Name\"], inplace=True)"
   ]
  },
  {
   "cell_type": "code",
   "execution_count": 125,
   "metadata": {},
   "outputs": [
    {
     "data": {
      "text/html": [
       "<div>\n",
       "<style scoped>\n",
       "    .dataframe tbody tr th:only-of-type {\n",
       "        vertical-align: middle;\n",
       "    }\n",
       "\n",
       "    .dataframe tbody tr th {\n",
       "        vertical-align: top;\n",
       "    }\n",
       "\n",
       "    .dataframe thead th {\n",
       "        text-align: right;\n",
       "    }\n",
       "</style>\n",
       "<table border=\"1\" class=\"dataframe\">\n",
       "  <thead>\n",
       "    <tr style=\"text-align: right;\">\n",
       "      <th></th>\n",
       "      <th>HomePlanet</th>\n",
       "      <th>CryoSleep</th>\n",
       "      <th>Cabin</th>\n",
       "      <th>Destination</th>\n",
       "      <th>Age</th>\n",
       "      <th>VIP</th>\n",
       "      <th>RoomService</th>\n",
       "      <th>FoodCourt</th>\n",
       "      <th>ShoppingMall</th>\n",
       "      <th>Spa</th>\n",
       "      <th>VRDeck</th>\n",
       "      <th>Transported</th>\n",
       "    </tr>\n",
       "  </thead>\n",
       "  <tbody>\n",
       "    <tr>\n",
       "      <th>0</th>\n",
       "      <td>Europa</td>\n",
       "      <td>False</td>\n",
       "      <td>B/0/P</td>\n",
       "      <td>TRAPPIST-1e</td>\n",
       "      <td>39.0</td>\n",
       "      <td>False</td>\n",
       "      <td>0.0</td>\n",
       "      <td>0.0</td>\n",
       "      <td>0.0</td>\n",
       "      <td>0.0</td>\n",
       "      <td>0.0</td>\n",
       "      <td>False</td>\n",
       "    </tr>\n",
       "    <tr>\n",
       "      <th>1</th>\n",
       "      <td>Earth</td>\n",
       "      <td>False</td>\n",
       "      <td>F/0/S</td>\n",
       "      <td>TRAPPIST-1e</td>\n",
       "      <td>24.0</td>\n",
       "      <td>False</td>\n",
       "      <td>109.0</td>\n",
       "      <td>9.0</td>\n",
       "      <td>25.0</td>\n",
       "      <td>549.0</td>\n",
       "      <td>44.0</td>\n",
       "      <td>True</td>\n",
       "    </tr>\n",
       "    <tr>\n",
       "      <th>2</th>\n",
       "      <td>Europa</td>\n",
       "      <td>False</td>\n",
       "      <td>A/0/S</td>\n",
       "      <td>TRAPPIST-1e</td>\n",
       "      <td>58.0</td>\n",
       "      <td>True</td>\n",
       "      <td>43.0</td>\n",
       "      <td>3576.0</td>\n",
       "      <td>0.0</td>\n",
       "      <td>6715.0</td>\n",
       "      <td>49.0</td>\n",
       "      <td>False</td>\n",
       "    </tr>\n",
       "    <tr>\n",
       "      <th>3</th>\n",
       "      <td>Europa</td>\n",
       "      <td>False</td>\n",
       "      <td>A/0/S</td>\n",
       "      <td>TRAPPIST-1e</td>\n",
       "      <td>33.0</td>\n",
       "      <td>False</td>\n",
       "      <td>0.0</td>\n",
       "      <td>1283.0</td>\n",
       "      <td>371.0</td>\n",
       "      <td>3329.0</td>\n",
       "      <td>193.0</td>\n",
       "      <td>False</td>\n",
       "    </tr>\n",
       "    <tr>\n",
       "      <th>4</th>\n",
       "      <td>Earth</td>\n",
       "      <td>False</td>\n",
       "      <td>F/1/S</td>\n",
       "      <td>TRAPPIST-1e</td>\n",
       "      <td>16.0</td>\n",
       "      <td>False</td>\n",
       "      <td>303.0</td>\n",
       "      <td>70.0</td>\n",
       "      <td>151.0</td>\n",
       "      <td>565.0</td>\n",
       "      <td>2.0</td>\n",
       "      <td>True</td>\n",
       "    </tr>\n",
       "  </tbody>\n",
       "</table>\n",
       "</div>"
      ],
      "text/plain": [
       "  HomePlanet  CryoSleep  Cabin  Destination   Age    VIP  RoomService  \\\n",
       "0     Europa      False  B/0/P  TRAPPIST-1e  39.0  False          0.0   \n",
       "1      Earth      False  F/0/S  TRAPPIST-1e  24.0  False        109.0   \n",
       "2     Europa      False  A/0/S  TRAPPIST-1e  58.0   True         43.0   \n",
       "3     Europa      False  A/0/S  TRAPPIST-1e  33.0  False          0.0   \n",
       "4      Earth      False  F/1/S  TRAPPIST-1e  16.0  False        303.0   \n",
       "\n",
       "   FoodCourt  ShoppingMall     Spa  VRDeck  Transported  \n",
       "0        0.0           0.0     0.0     0.0        False  \n",
       "1        9.0          25.0   549.0    44.0         True  \n",
       "2     3576.0           0.0  6715.0    49.0        False  \n",
       "3     1283.0         371.0  3329.0   193.0        False  \n",
       "4       70.0         151.0   565.0     2.0         True  "
      ]
     },
     "execution_count": 125,
     "metadata": {},
     "output_type": "execute_result"
    }
   ],
   "source": [
    "df.head()"
   ]
  },
  {
   "cell_type": "markdown",
   "metadata": {},
   "source": [
    "# **3. Data Splitting**"
   ]
  },
  {
   "cell_type": "markdown",
   "metadata": {},
   "source": [
    "Tahap Data Splitting bertujuan untuk memisahkan dataset menjadi dua bagian: data latih (training set) dan data uji (test set)."
   ]
  },
  {
   "cell_type": "code",
   "execution_count": 126,
   "metadata": {},
   "outputs": [],
   "source": [
    "k = df.select_dtypes(include=['bool'])\n",
    "\n",
    "# Convert bool to INT\n",
    "df[k.columns] = k.astype(int)"
   ]
  },
  {
   "cell_type": "code",
   "execution_count": 127,
   "metadata": {},
   "outputs": [
    {
     "data": {
      "text/plain": [
       "((6954, 11), (1739, 11), (6954,), (1739,))"
      ]
     },
     "execution_count": 127,
     "metadata": {},
     "output_type": "execute_result"
    }
   ],
   "source": [
    "X = df.drop(columns=\"Transported\")\n",
    "y = df[\"Transported\"]\n",
    "X_train, X_val, y_train, y_val = train_test_split(X, y, test_size=0.2, stratify=y, random_state=42)\n",
    "X_train.shape, X_val.shape, y_train.shape, y_val.shape"
   ]
  },
  {
   "cell_type": "code",
   "execution_count": 10,
   "metadata": {},
   "outputs": [
    {
     "data": {
      "text/plain": [
       "Index(['HomePlanet', 'Cabin', 'Destination'], dtype='object')"
      ]
     },
     "execution_count": 10,
     "metadata": {},
     "output_type": "execute_result"
    }
   ],
   "source": [
    "df.select_dtypes(include=['object']).columns"
   ]
  },
  {
   "cell_type": "code",
   "execution_count": 101,
   "metadata": {},
   "outputs": [
    {
     "data": {
      "text/html": [
       "<div>\n",
       "<style scoped>\n",
       "    .dataframe tbody tr th:only-of-type {\n",
       "        vertical-align: middle;\n",
       "    }\n",
       "\n",
       "    .dataframe tbody tr th {\n",
       "        vertical-align: top;\n",
       "    }\n",
       "\n",
       "    .dataframe thead th {\n",
       "        text-align: right;\n",
       "    }\n",
       "</style>\n",
       "<table border=\"1\" class=\"dataframe\">\n",
       "  <thead>\n",
       "    <tr style=\"text-align: right;\">\n",
       "      <th></th>\n",
       "      <th>CryoSleep</th>\n",
       "      <th>Age</th>\n",
       "      <th>VIP</th>\n",
       "      <th>RoomService</th>\n",
       "      <th>FoodCourt</th>\n",
       "      <th>ShoppingMall</th>\n",
       "      <th>Spa</th>\n",
       "      <th>VRDeck</th>\n",
       "      <th>Transported</th>\n",
       "    </tr>\n",
       "  </thead>\n",
       "  <tbody>\n",
       "    <tr>\n",
       "      <th>0</th>\n",
       "      <td>0</td>\n",
       "      <td>39.0</td>\n",
       "      <td>0</td>\n",
       "      <td>0.0</td>\n",
       "      <td>0.0</td>\n",
       "      <td>0.0</td>\n",
       "      <td>0.0</td>\n",
       "      <td>0.0</td>\n",
       "      <td>0</td>\n",
       "    </tr>\n",
       "    <tr>\n",
       "      <th>1</th>\n",
       "      <td>0</td>\n",
       "      <td>24.0</td>\n",
       "      <td>0</td>\n",
       "      <td>109.0</td>\n",
       "      <td>9.0</td>\n",
       "      <td>25.0</td>\n",
       "      <td>549.0</td>\n",
       "      <td>44.0</td>\n",
       "      <td>1</td>\n",
       "    </tr>\n",
       "    <tr>\n",
       "      <th>2</th>\n",
       "      <td>0</td>\n",
       "      <td>58.0</td>\n",
       "      <td>1</td>\n",
       "      <td>43.0</td>\n",
       "      <td>3576.0</td>\n",
       "      <td>0.0</td>\n",
       "      <td>6715.0</td>\n",
       "      <td>49.0</td>\n",
       "      <td>0</td>\n",
       "    </tr>\n",
       "    <tr>\n",
       "      <th>3</th>\n",
       "      <td>0</td>\n",
       "      <td>33.0</td>\n",
       "      <td>0</td>\n",
       "      <td>0.0</td>\n",
       "      <td>1283.0</td>\n",
       "      <td>371.0</td>\n",
       "      <td>3329.0</td>\n",
       "      <td>193.0</td>\n",
       "      <td>0</td>\n",
       "    </tr>\n",
       "    <tr>\n",
       "      <th>4</th>\n",
       "      <td>0</td>\n",
       "      <td>16.0</td>\n",
       "      <td>0</td>\n",
       "      <td>303.0</td>\n",
       "      <td>70.0</td>\n",
       "      <td>151.0</td>\n",
       "      <td>565.0</td>\n",
       "      <td>2.0</td>\n",
       "      <td>1</td>\n",
       "    </tr>\n",
       "    <tr>\n",
       "      <th>...</th>\n",
       "      <td>...</td>\n",
       "      <td>...</td>\n",
       "      <td>...</td>\n",
       "      <td>...</td>\n",
       "      <td>...</td>\n",
       "      <td>...</td>\n",
       "      <td>...</td>\n",
       "      <td>...</td>\n",
       "      <td>...</td>\n",
       "    </tr>\n",
       "    <tr>\n",
       "      <th>8688</th>\n",
       "      <td>0</td>\n",
       "      <td>41.0</td>\n",
       "      <td>1</td>\n",
       "      <td>0.0</td>\n",
       "      <td>6819.0</td>\n",
       "      <td>0.0</td>\n",
       "      <td>1643.0</td>\n",
       "      <td>74.0</td>\n",
       "      <td>0</td>\n",
       "    </tr>\n",
       "    <tr>\n",
       "      <th>8689</th>\n",
       "      <td>1</td>\n",
       "      <td>18.0</td>\n",
       "      <td>0</td>\n",
       "      <td>0.0</td>\n",
       "      <td>0.0</td>\n",
       "      <td>0.0</td>\n",
       "      <td>0.0</td>\n",
       "      <td>0.0</td>\n",
       "      <td>0</td>\n",
       "    </tr>\n",
       "    <tr>\n",
       "      <th>8690</th>\n",
       "      <td>0</td>\n",
       "      <td>26.0</td>\n",
       "      <td>0</td>\n",
       "      <td>0.0</td>\n",
       "      <td>0.0</td>\n",
       "      <td>1872.0</td>\n",
       "      <td>1.0</td>\n",
       "      <td>0.0</td>\n",
       "      <td>1</td>\n",
       "    </tr>\n",
       "    <tr>\n",
       "      <th>8691</th>\n",
       "      <td>0</td>\n",
       "      <td>32.0</td>\n",
       "      <td>0</td>\n",
       "      <td>0.0</td>\n",
       "      <td>1049.0</td>\n",
       "      <td>0.0</td>\n",
       "      <td>353.0</td>\n",
       "      <td>3235.0</td>\n",
       "      <td>0</td>\n",
       "    </tr>\n",
       "    <tr>\n",
       "      <th>8692</th>\n",
       "      <td>0</td>\n",
       "      <td>44.0</td>\n",
       "      <td>0</td>\n",
       "      <td>126.0</td>\n",
       "      <td>4688.0</td>\n",
       "      <td>0.0</td>\n",
       "      <td>0.0</td>\n",
       "      <td>12.0</td>\n",
       "      <td>1</td>\n",
       "    </tr>\n",
       "  </tbody>\n",
       "</table>\n",
       "<p>8693 rows × 9 columns</p>\n",
       "</div>"
      ],
      "text/plain": [
       "      CryoSleep   Age  VIP  RoomService  FoodCourt  ShoppingMall     Spa  \\\n",
       "0             0  39.0    0          0.0        0.0           0.0     0.0   \n",
       "1             0  24.0    0        109.0        9.0          25.0   549.0   \n",
       "2             0  58.0    1         43.0     3576.0           0.0  6715.0   \n",
       "3             0  33.0    0          0.0     1283.0         371.0  3329.0   \n",
       "4             0  16.0    0        303.0       70.0         151.0   565.0   \n",
       "...         ...   ...  ...          ...        ...           ...     ...   \n",
       "8688          0  41.0    1          0.0     6819.0           0.0  1643.0   \n",
       "8689          1  18.0    0          0.0        0.0           0.0     0.0   \n",
       "8690          0  26.0    0          0.0        0.0        1872.0     1.0   \n",
       "8691          0  32.0    0          0.0     1049.0           0.0   353.0   \n",
       "8692          0  44.0    0        126.0     4688.0           0.0     0.0   \n",
       "\n",
       "      VRDeck  Transported  \n",
       "0        0.0            0  \n",
       "1       44.0            1  \n",
       "2       49.0            0  \n",
       "3      193.0            0  \n",
       "4        2.0            1  \n",
       "...      ...          ...  \n",
       "8688    74.0            0  \n",
       "8689     0.0            0  \n",
       "8690     0.0            1  \n",
       "8691  3235.0            0  \n",
       "8692    12.0            1  \n",
       "\n",
       "[8693 rows x 9 columns]"
      ]
     },
     "execution_count": 101,
     "metadata": {},
     "output_type": "execute_result"
    }
   ],
   "source": [
    "numerical_cols = df.select_dtypes(include=[\"number\"])\n",
    "numerical_cols"
   ]
  },
  {
   "cell_type": "code",
   "execution_count": 102,
   "metadata": {},
   "outputs": [
    {
     "data": {
      "text/plain": [
       "3608"
      ]
     },
     "execution_count": 102,
     "metadata": {},
     "output_type": "execute_result"
    }
   ],
   "source": [
    "# Remove Outliers Train_df\n",
    "Q1 = numerical_cols.quantile(0.25)\n",
    "Q3 = numerical_cols.quantile(0.75)\n",
    "IQR = Q3 - Q1\n",
    "\n",
    "condition = ~((numerical_cols < (Q1 - 1.5 * IQR)) | (numerical_cols > (Q3 + 1.5 * IQR))).any(axis=1)\n",
    "df = df[condition]\n",
    "df.shape[0]"
   ]
  },
  {
   "cell_type": "code",
   "execution_count": 12,
   "metadata": {},
   "outputs": [
    {
     "data": {
      "text/plain": [
       "Index(['CryoSleep', 'Age', 'VIP', 'RoomService', 'FoodCourt', 'ShoppingMall',\n",
       "       'Spa', 'VRDeck', 'Transported'],\n",
       "      dtype='object')"
      ]
     },
     "execution_count": 12,
     "metadata": {},
     "output_type": "execute_result"
    }
   ],
   "source": [
    "df.select_dtypes(include=[\"int\", \"float\"]).columns"
   ]
  },
  {
   "cell_type": "code",
   "execution_count": 128,
   "metadata": {},
   "outputs": [],
   "source": [
    "# Dalam preprocessor gunakan robust agar tahan dengan outliers\n",
    "preprocessor = ColumnTransformer([\n",
    "    ('numeric', num_pipe(scaling=\"robust\"), ['CryoSleep', 'Age', 'VIP', 'RoomService', 'FoodCourt', 'ShoppingMall', 'Spa', 'VRDeck']),\n",
    "    ('categoric', cat_pipe(encoder=\"onehot\"), ['HomePlanet', 'Cabin', 'Destination']),\n",
    "])"
   ]
  },
  {
   "cell_type": "markdown",
   "metadata": {},
   "source": [
    "# **4. Membangun Model Klasifikasi**\n"
   ]
  },
  {
   "cell_type": "markdown",
   "metadata": {},
   "source": [
    "## **a. Membangun Model Klasifikasi**"
   ]
  },
  {
   "cell_type": "markdown",
   "metadata": {},
   "source": [
    "Setelah memilih algoritma klasifikasi yang sesuai, langkah selanjutnya adalah melatih model menggunakan data latih.\n",
    "\n",
    "Berikut adalah rekomendasi tahapannya.\n",
    "1. Pilih algoritma klasifikasi yang sesuai, seperti Logistic Regression, Decision Tree, Random Forest, atau K-Nearest Neighbors (KNN).\n",
    "2. Latih model menggunakan data latih."
   ]
  },
  {
   "cell_type": "code",
   "execution_count": 133,
   "metadata": {},
   "outputs": [
    {
     "name": "stdout",
     "output_type": "stream",
     "text": [
      "0.8605119355766465 0.7481311098332375\n"
     ]
    }
   ],
   "source": [
    "pred_KNN = Pipeline([\n",
    "    (\"prep\", preprocessor),\n",
    "    (\"algo\", KNeighborsClassifier(n_neighbors=3))\n",
    "])\n",
    "\n",
    "pred_KNN.fit(X_train, y_train)\n",
    "\n",
    "print(pred_KNN.score(X_train, y_train),  pred_KNN.score(X_val, y_val))"
   ]
  },
  {
   "cell_type": "code",
   "execution_count": 137,
   "metadata": {},
   "outputs": [
    {
     "name": "stdout",
     "output_type": "stream",
     "text": [
      "0.8852459016393442 0.78953421506613\n"
     ]
    }
   ],
   "source": [
    "pred_XGB = Pipeline([\n",
    "    (\"prep\", preprocessor),\n",
    "    (\"algo\", XGBClassifier(objective='binary:logistic'))\n",
    "])\n",
    "\n",
    "pred_XGB.fit(X_train, y_train)\n",
    "\n",
    "print(pred_XGB.score(X_train, y_train),  pred_XGB.score(X_val, y_val))"
   ]
  },
  {
   "cell_type": "code",
   "execution_count": 138,
   "metadata": {},
   "outputs": [
    {
     "name": "stdout",
     "output_type": "stream",
     "text": [
      "0.9992809893586425 0.7837837837837838\n"
     ]
    }
   ],
   "source": [
    "pred_RF = Pipeline([\n",
    "    (\"prep\", preprocessor),\n",
    "    (\"algo\", RandomForestClassifier(random_state=42))\n",
    "])\n",
    "\n",
    "pred_RF.fit(X_train, y_train)\n",
    "\n",
    "print(pred_RF.score(X_train, y_train),  pred_RF.score(X_val, y_val))"
   ]
  },
  {
   "cell_type": "markdown",
   "metadata": {},
   "source": [
    "Disini saya menggunakan Algoritma RandomForestClassifier karena Random Forest merupakan algoritma yang cukup cepat dalam optimalisasi waktu serta komputasi yang tidak berat, dan mendapatkan hasil yang maksimal"
   ]
  },
  {
   "cell_type": "markdown",
   "metadata": {},
   "source": [
    "## **b. Evaluasi Model Klasifikasi**"
   ]
  },
  {
   "cell_type": "markdown",
   "metadata": {},
   "source": [
    "Berikut adalah **rekomendasi** tahapannya.\n",
    "1. Lakukan prediksi menggunakan data uji.\n",
    "2. Hitung metrik evaluasi seperti Accuracy dan F1-Score (Opsional: Precision dan Recall).\n",
    "3. Buat confusion matrix untuk melihat detail prediksi benar dan salah."
   ]
  },
  {
   "cell_type": "code",
   "execution_count": 139,
   "metadata": {},
   "outputs": [
    {
     "name": "stdout",
     "output_type": "stream",
     "text": [
      "Classification Report KNN Prediction :\n",
      "              precision    recall  f1-score   support\n",
      "\n",
      "           0       0.74      0.76      0.75       863\n",
      "           1       0.76      0.74      0.75       876\n",
      "\n",
      "    accuracy                           0.75      1739\n",
      "   macro avg       0.75      0.75      0.75      1739\n",
      "weighted avg       0.75      0.75      0.75      1739\n",
      "\n",
      "\n",
      "Confusion Matrix:\n",
      "[[654 209]\n",
      " [229 647]]\n",
      "Precision: 0.7558\n",
      "Recall: 0.7386\n",
      "F1-Score: 0.7471\n"
     ]
    }
   ],
   "source": [
    "y_val_pred_KNN = pred_KNN.predict(X_val)\n",
    "report_KNN = classification_report(y_val, y_val_pred_KNN)\n",
    "print(\"Classification Report KNN Prediction :\")\n",
    "print(report_KNN)\n",
    "\n",
    "cm_KNN = confusion_matrix(y_val, y_val_pred_KNN)\n",
    "print(\"\\nConfusion Matrix:\")\n",
    "print(cm_KNN)\n",
    "print(f\"Precision: {precision_score(y_val, y_val_pred_KNN, zero_division=0):.4f}\")\n",
    "print(f\"Recall: {recall_score(y_val, y_val_pred_KNN ):.4f}\")\n",
    "print(f\"F1-Score: {f1_score(y_val, y_val_pred_KNN , zero_division=0):.4f}\")"
   ]
  },
  {
   "cell_type": "code",
   "execution_count": 140,
   "metadata": {},
   "outputs": [
    {
     "name": "stdout",
     "output_type": "stream",
     "text": [
      "Classification Report XGB Prediction :\n",
      "              precision    recall  f1-score   support\n",
      "\n",
      "           0       0.79      0.78      0.79       863\n",
      "           1       0.79      0.80      0.79       876\n",
      "\n",
      "    accuracy                           0.79      1739\n",
      "   macro avg       0.79      0.79      0.79      1739\n",
      "weighted avg       0.79      0.79      0.79      1739\n",
      "\n",
      "\n",
      "Confusion Matrix:\n",
      "[[673 190]\n",
      " [176 700]]\n",
      "Precision: 0.7865\n",
      "Recall: 0.7991\n",
      "F1-Score: 0.7928\n"
     ]
    }
   ],
   "source": [
    "y_val_pred_XGB = pred_XGB.predict(X_val)\n",
    "report_XGB = classification_report(y_val, y_val_pred_XGB)\n",
    "print(\"Classification Report XGB Prediction :\")\n",
    "print(report_XGB)\n",
    "\n",
    "cm_XGB = confusion_matrix(y_val, y_val_pred_XGB)\n",
    "print(\"\\nConfusion Matrix:\")\n",
    "print(cm_XGB)\n",
    "print(f\"Precision: {precision_score(y_val, y_val_pred_XGB, zero_division=0):.4f}\")\n",
    "print(f\"Recall: {recall_score(y_val, y_val_pred_XGB ):.4f}\")\n",
    "print(f\"F1-Score: {f1_score(y_val, y_val_pred_XGB , zero_division=0):.4f}\")"
   ]
  },
  {
   "cell_type": "code",
   "execution_count": 141,
   "metadata": {},
   "outputs": [
    {
     "name": "stdout",
     "output_type": "stream",
     "text": [
      "Classification Report Random Forest Prediction :\n",
      "              precision    recall  f1-score   support\n",
      "\n",
      "           0       0.77      0.81      0.79       863\n",
      "           1       0.80      0.77      0.78       876\n",
      "\n",
      "    accuracy                           0.79      1739\n",
      "   macro avg       0.79      0.79      0.79      1739\n",
      "weighted avg       0.79      0.79      0.79      1739\n",
      "\n",
      "\n",
      "Confusion Matrix:\n",
      "[[695 168]\n",
      " [204 672]]\n",
      "Precision: 0.8000\n",
      "Recall: 0.7671\n",
      "F1-Score: 0.7832\n"
     ]
    }
   ],
   "source": [
    "y_val_pred_proba_RF = pred_RF.predict_proba(X_val)[:, 1]  \n",
    "y_val_pred_RF = (y_val_pred_proba_RF >= 0.5).astype(int)\n",
    "\n",
    "report_RF= classification_report(y_val, y_val_pred_RF)\n",
    "print(\"Classification Report Random Forest Prediction :\")\n",
    "print(report_RF)\n",
    "\n",
    "cm_RF = confusion_matrix(y_val, y_val_pred_RF)\n",
    "print(\"\\nConfusion Matrix:\")\n",
    "print(cm_RF)\n",
    "print(f\"Precision: {precision_score(y_val, y_val_pred_RF, zero_division=0):.4f}\")\n",
    "print(f\"Recall: {recall_score(y_val, y_val_pred_RF ):.4f}\")\n",
    "print(f\"F1-Score: {f1_score(y_val, y_val_pred_RF , zero_division=0):.4f}\")"
   ]
  },
  {
   "cell_type": "markdown",
   "metadata": {},
   "source": [
    "1. **Akurasi**:\n",
    "   - **KNN**: 75%\n",
    "   - **XGBoost**: 79%\n",
    "   - **Random Forest**: 79%\n",
    "   - **XGBoost** dan **Random Forest** memiliki akurasi yang lebih tinggi dibandingkan **KNN**.\n",
    "\n",
    "2. **Keseimbangan Precision dan Recall**:\n",
    "   - **KNN**:\n",
    "     - Precision: 0.74-0.76\n",
    "     - Recall: 0.74-0.76\n",
    "     - F1-Score: 0.75-0.75\n",
    "   - **XGBoost**:\n",
    "     - Precision: 0.79-0.79\n",
    "     - Recall: 0.78-0.80\n",
    "     - F1-Score: 0.79-0.79\n",
    "   - **Random Forest**:\n",
    "     - Precision: 0.77-0.80\n",
    "     - Recall: 0.77-0.81\n",
    "     - F1-Score: 0.78-0.79\n",
    "   - **XGBoost** dan **Random Forest** memiliki precision, recall, dan F1-Score yang lebih seimbang dan lebih tinggi dibandingkan **KNN**.\n",
    "\n",
    "3. **Confusion Matrix**:\n",
    "   - **KNN**:\n",
    "     - False Positive: 209\n",
    "     - False Negative: 229\n",
    "   - **XGBoost**:\n",
    "     - False Positive: 190\n",
    "     - False Negative: 176\n",
    "   - **Random Forest**:\n",
    "     - False Positive: 168\n",
    "     - False Negative: 204\n",
    "   - **XGBoost** memiliki lebih sedikit kesalahan (false positive dan false negative) dibandingkan **KNN** dan **Random Forest**.\n",
    "\n",
    "4. **Kesimpulan**:\n",
    "   - **XGBoost** dan **Random Forest** menunjukkan performa yang lebih baik secara keseluruhan dibandingkan **KNN**.\n",
    "   - Jika Anda memilih antara ketiga model, **XGBoost** adalah pilihan yang lebih baik berdasarkan metrik evaluasi yang ada, karena memiliki akurasi yang sama dengan **Random Forest** tetapi dengan kesalahan yang lebih sedikit.\n",
    "\n",
    "5. **Kelebihan dan Kekurangan**:\n",
    "   - **KNN**:\n",
    "     - **Kelebihan**:\n",
    "       - Mudah diimplementasikan dan dipahami.\n",
    "       - Tidak memerlukan pelatihan (lazy learning), sehingga cepat untuk dataset kecil.\n",
    "     - **Kekurangan**:\n",
    "       - Sensitif terhadap data yang tidak relevan atau redundan.\n",
    "       - Performa menurun pada dataset besar karena kompleksitas komputasi yang tinggi.\n",
    "       - Membutuhkan normalisasi atau scaling data untuk hasil yang optimal.\n",
    "\n",
    "   - **XGBoost**:\n",
    "     - **Kelebihan**:\n",
    "       - Performa yang sangat baik pada dataset besar dan kecil.\n",
    "       - Dapat menangani data dengan fitur yang tidak relevan atau redundan.\n",
    "       - Mendukung regularisasi untuk mengurangi overfitting.\n",
    "     - **Kekurangan**:\n",
    "       - Lebih kompleks dan membutuhkan waktu pelatihan yang lebih lama dibandingkan KNN.\n",
    "       - Membutuhkan tuning hyperparameter untuk hasil yang optimal.\n",
    "\n",
    "   - **Random Forest**:\n",
    "     - **Kelebihan**:\n",
    "       - Lebih robust terhadap overfitting dibandingkan KNN.\n",
    "       - Dapat menangani data dengan fitur yang tidak relevan atau redundan.\n",
    "       - Performa umumnya lebih baik pada dataset besar.\n",
    "     - **Kekurangan**:\n",
    "       - Lebih kompleks dan membutuhkan waktu pelatihan yang lebih lama dibandingkan KNN.\n",
    "       - Kurang interpretable karena terdiri dari banyak pohon keputusan.\n",
    "\n",
    "6. **Rekomendasi**:\n",
    "   - Jika Anda memprioritaskan akurasi dan performa, **XGBoost** adalah pilihan yang lebih baik.\n",
    "   - Jika Anda membutuhkan model yang sederhana dan cepat untuk dataset kecil, **KNN** bisa menjadi pilihan.\n",
    "   - Untuk meningkatkan performa lebih lanjut, Anda dapat:\n",
    "     - Mengeksplorasi hyperparameter lain atau algoritma lain.\n",
    "     - Menambah jumlah data pelatihan, terutama jika dataset kecil.\n",
    "     - Menerapkan teknik handling class imbalance (jika ada ketidakseimbangan kelas)."
   ]
  },
  {
   "cell_type": "markdown",
   "metadata": {},
   "source": [
    "## **c. Tuning Model Klasifikasi (Optional)**"
   ]
  },
  {
   "cell_type": "markdown",
   "metadata": {},
   "source": [
    "Gunakan GridSearchCV, RandomizedSearchCV, atau metode lainnya untuk mencari kombinasi hyperparameter terbaik"
   ]
  },
  {
   "cell_type": "markdown",
   "metadata": {},
   "source": [
    "Tunning dengan Hyperparameter : RandomizedSearchCV"
   ]
  },
  {
   "cell_type": "code",
   "execution_count": 145,
   "metadata": {},
   "outputs": [
    {
     "name": "stdout",
     "output_type": "stream",
     "text": [
      "Fitting 5 folds for each of 50 candidates, totalling 250 fits\n",
      "{'algo__n_neighbors': 32, 'algo__p': 1.6501836795962914, 'algo__weights': 'uniform'}\n",
      "0.8025596778832327 0.7960894548200405 0.7906843013225991\n"
     ]
    }
   ],
   "source": [
    "pipeline = Pipeline([\n",
    "    (\"prep\", preprocessor),\n",
    "    (\"algo\", KNeighborsClassifier(metric=\"manhattan\"))\n",
    "])\n",
    "\n",
    "model_knn_tunning_random = RandomizedSearchCV(pipeline, rsp.knn_params, n_iter = 50, cv=5, n_jobs=-1, verbose=1)\n",
    "model_knn_tunning_random.fit(X_train, y_train)\n",
    "\n",
    "print(model_knn_tunning_random.best_params_)\n",
    "print(model_knn_tunning_random.score(X_train, y_train), model_knn_tunning_random.best_score_, model_knn_tunning_random.score(X_val, y_val))"
   ]
  },
  {
   "cell_type": "code",
   "execution_count": 143,
   "metadata": {},
   "outputs": [
    {
     "name": "stdout",
     "output_type": "stream",
     "text": [
      "Fitting 5 folds for each of 50 candidates, totalling 250 fits\n",
      "{'algo__colsample_bytree': 0.5042618967434116, 'algo__gamma': 7, 'algo__learning_rate': 0.24821773522540128, 'algo__max_depth': 7, 'algo__n_estimators': 166, 'algo__reg_alpha': 0.007085399812338734, 'algo__reg_lambda': 0.0018175602641608273, 'algo__subsample': 0.6944726821612407}\n",
      "0.8065861374748347 0.7936453770125524 0.7935595169637722\n"
     ]
    }
   ],
   "source": [
    "pipeline = Pipeline([\n",
    "    (\"prep\", preprocessor),\n",
    "    (\"algo\", XGBClassifier(objective='binary:logistic'))\n",
    "])\n",
    "\n",
    "model_xgb_tunning_random = RandomizedSearchCV(pipeline, rsp.xgb_params, n_iter = 50, cv=5, n_jobs=-1, verbose=1)\n",
    "model_xgb_tunning_random.fit(X_train, y_train)\n",
    "\n",
    "print(model_xgb_tunning_random.best_params_)\n",
    "print(model_xgb_tunning_random.score(X_train, y_train), model_xgb_tunning_random.best_score_, model_xgb_tunning_random.score(X_val, y_val))"
   ]
  },
  {
   "cell_type": "code",
   "execution_count": 147,
   "metadata": {},
   "outputs": [
    {
     "name": "stdout",
     "output_type": "stream",
     "text": [
      "Fitting 5 folds for each of 50 candidates, totalling 250 fits\n",
      "{'algo__max_depth': 61, 'algo__max_features': 0.6762208932300875, 'algo__min_samples_leaf': 11, 'algo__n_estimators': 187}\n",
      "0.8280126545872879 0.7986784519185515 0.7998849913743531\n"
     ]
    }
   ],
   "source": [
    "pipeline = Pipeline([\n",
    "    (\"prep\", preprocessor),\n",
    "    (\"algo\", RandomForestClassifier())\n",
    "])\n",
    "\n",
    "model_rf_tunning_random = RandomizedSearchCV(pipeline, rsp.rf_params, n_iter = 50, cv=5, n_jobs=-1, verbose=1)\n",
    "model_rf_tunning_random.fit(X_train, y_train)\n",
    "\n",
    "print(model_rf_tunning_random.best_params_)\n",
    "print(model_rf_tunning_random.score(X_train, y_train), model_rf_tunning_random.best_score_, model_rf_tunning_random.score(X_val, y_val))"
   ]
  },
  {
   "cell_type": "markdown",
   "metadata": {},
   "source": [
    "Tunning dengan Hyperparameter : Bayesian Optimizer"
   ]
  },
  {
   "cell_type": "code",
   "execution_count": 29,
   "metadata": {},
   "outputs": [
    {
     "name": "stdout",
     "output_type": "stream",
     "text": [
      "Fitting 5 folds for each of 1 candidates, totalling 5 fits\n",
      "Fitting 5 folds for each of 1 candidates, totalling 5 fits\n",
      "Fitting 5 folds for each of 1 candidates, totalling 5 fits\n",
      "Fitting 5 folds for each of 1 candidates, totalling 5 fits\n",
      "Fitting 5 folds for each of 1 candidates, totalling 5 fits\n",
      "Fitting 5 folds for each of 1 candidates, totalling 5 fits\n",
      "Fitting 5 folds for each of 1 candidates, totalling 5 fits\n",
      "Fitting 5 folds for each of 1 candidates, totalling 5 fits\n",
      "Fitting 5 folds for each of 1 candidates, totalling 5 fits\n",
      "Fitting 5 folds for each of 1 candidates, totalling 5 fits\n",
      "Fitting 5 folds for each of 1 candidates, totalling 5 fits\n",
      "Fitting 5 folds for each of 1 candidates, totalling 5 fits\n",
      "Fitting 5 folds for each of 1 candidates, totalling 5 fits\n",
      "Fitting 5 folds for each of 1 candidates, totalling 5 fits\n",
      "Fitting 5 folds for each of 1 candidates, totalling 5 fits\n",
      "Fitting 5 folds for each of 1 candidates, totalling 5 fits\n",
      "Fitting 5 folds for each of 1 candidates, totalling 5 fits\n",
      "Fitting 5 folds for each of 1 candidates, totalling 5 fits\n",
      "Fitting 5 folds for each of 1 candidates, totalling 5 fits\n",
      "Fitting 5 folds for each of 1 candidates, totalling 5 fits\n",
      "Fitting 5 folds for each of 1 candidates, totalling 5 fits\n",
      "Fitting 5 folds for each of 1 candidates, totalling 5 fits\n",
      "Fitting 5 folds for each of 1 candidates, totalling 5 fits\n",
      "Fitting 5 folds for each of 1 candidates, totalling 5 fits\n",
      "Fitting 5 folds for each of 1 candidates, totalling 5 fits\n",
      "Fitting 5 folds for each of 1 candidates, totalling 5 fits\n",
      "Fitting 5 folds for each of 1 candidates, totalling 5 fits\n",
      "Fitting 5 folds for each of 1 candidates, totalling 5 fits\n",
      "Fitting 5 folds for each of 1 candidates, totalling 5 fits\n",
      "Fitting 5 folds for each of 1 candidates, totalling 5 fits\n",
      "Fitting 5 folds for each of 1 candidates, totalling 5 fits\n",
      "Fitting 5 folds for each of 1 candidates, totalling 5 fits\n",
      "Fitting 5 folds for each of 1 candidates, totalling 5 fits\n",
      "Fitting 5 folds for each of 1 candidates, totalling 5 fits\n",
      "Fitting 5 folds for each of 1 candidates, totalling 5 fits\n",
      "Fitting 5 folds for each of 1 candidates, totalling 5 fits\n",
      "Fitting 5 folds for each of 1 candidates, totalling 5 fits\n",
      "Fitting 5 folds for each of 1 candidates, totalling 5 fits\n",
      "Fitting 5 folds for each of 1 candidates, totalling 5 fits\n",
      "Fitting 5 folds for each of 1 candidates, totalling 5 fits\n",
      "Fitting 5 folds for each of 1 candidates, totalling 5 fits\n",
      "Fitting 5 folds for each of 1 candidates, totalling 5 fits\n",
      "Fitting 5 folds for each of 1 candidates, totalling 5 fits\n",
      "Fitting 5 folds for each of 1 candidates, totalling 5 fits\n",
      "Fitting 5 folds for each of 1 candidates, totalling 5 fits\n",
      "Fitting 5 folds for each of 1 candidates, totalling 5 fits\n",
      "Fitting 5 folds for each of 1 candidates, totalling 5 fits\n",
      "Fitting 5 folds for each of 1 candidates, totalling 5 fits\n",
      "Fitting 5 folds for each of 1 candidates, totalling 5 fits\n",
      "Fitting 5 folds for each of 1 candidates, totalling 5 fits\n",
      "OrderedDict({'algo__max_depth': 50, 'algo__max_features': 0.7963817803604264, 'algo__min_samples_leaf': 11, 'algo__n_estimators': 150})\n",
      "0.8301696865113604 0.7975280968611165 0.7981598619896493\n"
     ]
    }
   ],
   "source": [
    "pipeline = Pipeline([\n",
    "    (\"prep\", preprocessor),\n",
    "    (\"algo\", RandomForestClassifier())\n",
    "])\n",
    "\n",
    "model_rf_tunning_bayes = BayesSearchCV(pipeline, bsp.rf_params, n_iter = 50, cv=5, n_jobs=-1, verbose=1)\n",
    "model_rf_tunning_bayes.fit(X_train, y_train)\n",
    "\n",
    "print(model_rf_tunning_bayes.best_params_)\n",
    "print(model_rf_tunning_bayes.score(X_train, y_train), model_rf_tunning_bayes.best_score_, model_rf_tunning_bayes.score(X_val, y_val))"
   ]
  },
  {
   "cell_type": "code",
   "execution_count": 152,
   "metadata": {},
   "outputs": [],
   "source": [
    "bsp.xgb_params = {\n",
    "    'algo__n_estimators': [100, 200, 300],\n",
    "    'algo__max_depth': [3, 5, 7],\n",
    "    'algo__learning_rate': [0.01, 0.1, 0.2],\n",
    "    'algo__subsample': [0.8, 0.9, 1.0],\n",
    "    'algo__colsample_bytree': [0.8, 0.9, 1.0],\n",
    "    'algo__gamma': [0, 0.1, 0.2],\n",
    "}"
   ]
  },
  {
   "cell_type": "code",
   "execution_count": 153,
   "metadata": {},
   "outputs": [
    {
     "name": "stdout",
     "output_type": "stream",
     "text": [
      "Fitting 5 folds for each of 50 candidates, totalling 250 fits\n",
      "{'algo__subsample': 0.8, 'algo__n_estimators': 300, 'algo__max_depth': 7, 'algo__learning_rate': 0.01, 'algo__gamma': 0.1, 'algo__colsample_bytree': 1.0}\n",
      "0.8288754673569169 0.7950832949743727 0.8021851638872916\n"
     ]
    }
   ],
   "source": [
    "pipeline = Pipeline([\n",
    "    (\"prep\", preprocessor),\n",
    "    (\"algo\", XGBClassifier())\n",
    "])\n",
    "\n",
    "model_xgb_tunning_bayes = RandomizedSearchCV(pipeline, bsp.xgb_params, n_iter = 50, cv=5, n_jobs=-1, verbose=1)\n",
    "model_xgb_tunning_bayes.fit(X_train, y_train)\n",
    "\n",
    "print(model_xgb_tunning_bayes.best_params_)\n",
    "print(model_xgb_tunning_bayes.score(X_train, y_train), model_xgb_tunning_bayes.best_score_, model_xgb_tunning_bayes.score(X_val, y_val))"
   ]
  },
  {
   "cell_type": "code",
   "execution_count": 155,
   "metadata": {},
   "outputs": [
    {
     "name": "stdout",
     "output_type": "stream",
     "text": [
      "Fitting 5 folds for each of 1 candidates, totalling 5 fits\n",
      "Fitting 5 folds for each of 1 candidates, totalling 5 fits\n",
      "Fitting 5 folds for each of 1 candidates, totalling 5 fits\n",
      "Fitting 5 folds for each of 1 candidates, totalling 5 fits\n",
      "Fitting 5 folds for each of 1 candidates, totalling 5 fits\n",
      "Fitting 5 folds for each of 1 candidates, totalling 5 fits\n",
      "Fitting 5 folds for each of 1 candidates, totalling 5 fits\n",
      "Fitting 5 folds for each of 1 candidates, totalling 5 fits\n",
      "Fitting 5 folds for each of 1 candidates, totalling 5 fits\n",
      "Fitting 5 folds for each of 1 candidates, totalling 5 fits\n",
      "Fitting 5 folds for each of 1 candidates, totalling 5 fits\n",
      "Fitting 5 folds for each of 1 candidates, totalling 5 fits\n",
      "Fitting 5 folds for each of 1 candidates, totalling 5 fits\n",
      "Fitting 5 folds for each of 1 candidates, totalling 5 fits\n",
      "Fitting 5 folds for each of 1 candidates, totalling 5 fits\n",
      "Fitting 5 folds for each of 1 candidates, totalling 5 fits\n",
      "Fitting 5 folds for each of 1 candidates, totalling 5 fits\n",
      "Fitting 5 folds for each of 1 candidates, totalling 5 fits\n",
      "Fitting 5 folds for each of 1 candidates, totalling 5 fits\n",
      "Fitting 5 folds for each of 1 candidates, totalling 5 fits\n",
      "Fitting 5 folds for each of 1 candidates, totalling 5 fits\n",
      "Fitting 5 folds for each of 1 candidates, totalling 5 fits\n",
      "Fitting 5 folds for each of 1 candidates, totalling 5 fits\n",
      "Fitting 5 folds for each of 1 candidates, totalling 5 fits\n",
      "Fitting 5 folds for each of 1 candidates, totalling 5 fits\n",
      "Fitting 5 folds for each of 1 candidates, totalling 5 fits\n",
      "Fitting 5 folds for each of 1 candidates, totalling 5 fits\n",
      "Fitting 5 folds for each of 1 candidates, totalling 5 fits\n",
      "Fitting 5 folds for each of 1 candidates, totalling 5 fits\n",
      "Fitting 5 folds for each of 1 candidates, totalling 5 fits\n",
      "Fitting 5 folds for each of 1 candidates, totalling 5 fits\n",
      "Fitting 5 folds for each of 1 candidates, totalling 5 fits\n",
      "Fitting 5 folds for each of 1 candidates, totalling 5 fits\n",
      "Fitting 5 folds for each of 1 candidates, totalling 5 fits\n",
      "Fitting 5 folds for each of 1 candidates, totalling 5 fits\n",
      "Fitting 5 folds for each of 1 candidates, totalling 5 fits\n",
      "Fitting 5 folds for each of 1 candidates, totalling 5 fits\n",
      "Fitting 5 folds for each of 1 candidates, totalling 5 fits\n",
      "Fitting 5 folds for each of 1 candidates, totalling 5 fits\n",
      "Fitting 5 folds for each of 1 candidates, totalling 5 fits\n",
      "Fitting 5 folds for each of 1 candidates, totalling 5 fits\n",
      "Fitting 5 folds for each of 1 candidates, totalling 5 fits\n",
      "Fitting 5 folds for each of 1 candidates, totalling 5 fits\n",
      "Fitting 5 folds for each of 1 candidates, totalling 5 fits\n",
      "Fitting 5 folds for each of 1 candidates, totalling 5 fits\n",
      "Fitting 5 folds for each of 1 candidates, totalling 5 fits\n",
      "Fitting 5 folds for each of 1 candidates, totalling 5 fits\n",
      "Fitting 5 folds for each of 1 candidates, totalling 5 fits\n",
      "Fitting 5 folds for each of 1 candidates, totalling 5 fits\n",
      "Fitting 5 folds for each of 1 candidates, totalling 5 fits\n",
      "OrderedDict({'algo__n_neighbors': 32, 'algo__p': 1.0, 'algo__weights': 'uniform'})\n",
      "0.8025596778832327 0.7960894548200405 0.7906843013225991\n"
     ]
    }
   ],
   "source": [
    "pipeline = Pipeline([\n",
    "    (\"prep\", preprocessor),\n",
    "    (\"algo\", KNeighborsClassifier(metric=\"manhattan\"))\n",
    "])\n",
    "\n",
    "model_KNN_tunning_bayes = BayesSearchCV(pipeline, bsp.knn_params, n_iter = 50, cv=5, n_jobs=-1, verbose=1)\n",
    "model_KNN_tunning_bayes .fit(X_train, y_train)\n",
    "\n",
    "print(model_KNN_tunning_bayes .best_params_)\n",
    "print(model_KNN_tunning_bayes .score(X_train, y_train), model_KNN_tunning_bayes .best_score_, model_KNN_tunning_bayes .score(X_val, y_val))"
   ]
  },
  {
   "cell_type": "markdown",
   "metadata": {},
   "source": [
    "Tunning : RandomizedSearchCV"
   ]
  },
  {
   "cell_type": "code",
   "execution_count": 146,
   "metadata": {},
   "outputs": [
    {
     "name": "stdout",
     "output_type": "stream",
     "text": [
      "Classification Report KNN Prediction :\n",
      "              precision    recall  f1-score   support\n",
      "\n",
      "           0       0.81      0.76      0.78       863\n",
      "           1       0.77      0.82      0.80       876\n",
      "\n",
      "    accuracy                           0.79      1739\n",
      "   macro avg       0.79      0.79      0.79      1739\n",
      "weighted avg       0.79      0.79      0.79      1739\n",
      "\n",
      "\n",
      "Confusion Matrix:\n",
      "[[653 210]\n",
      " [154 722]]\n",
      "Precision: 0.7747\n",
      "Recall: 0.8242\n",
      "F1-Score: 0.7987\n"
     ]
    }
   ],
   "source": [
    "best_model_KNN_tunning_random = model_knn_tunning_random.best_estimator_\n",
    "y_val_pred_KNN_tunning_random = best_model_KNN_tunning_random.predict(X_val)\n",
    "report_KNN_tunning_random = classification_report(y_val, y_val_pred_KNN_tunning_random)\n",
    "print(\"Classification Report KNN Prediction :\")\n",
    "print(report_KNN_tunning_random)\n",
    "\n",
    "cm_KNN_tunning_random = confusion_matrix(y_val, y_val_pred_KNN_tunning_random)\n",
    "print(\"\\nConfusion Matrix:\")\n",
    "print(cm_KNN_tunning_random)\n",
    "print(f\"Precision: {precision_score(y_val, y_val_pred_KNN_tunning_random, zero_division=0):.4f}\")\n",
    "print(f\"Recall: {recall_score(y_val, y_val_pred_KNN_tunning_random ):.4f}\")\n",
    "print(f\"F1-Score: {f1_score(y_val, y_val_pred_KNN_tunning_random , zero_division=0):.4f}\")"
   ]
  },
  {
   "cell_type": "code",
   "execution_count": 144,
   "metadata": {},
   "outputs": [
    {
     "name": "stdout",
     "output_type": "stream",
     "text": [
      "Classification Report xgb Prediction :\n",
      "              precision    recall  f1-score   support\n",
      "\n",
      "           0       0.81      0.76      0.78       863\n",
      "           1       0.78      0.83      0.80       876\n",
      "\n",
      "    accuracy                           0.79      1739\n",
      "   macro avg       0.79      0.79      0.79      1739\n",
      "weighted avg       0.79      0.79      0.79      1739\n",
      "\n",
      "\n",
      "Confusion Matrix:\n",
      "[[655 208]\n",
      " [151 725]]\n",
      "Precision: 0.7771\n",
      "Recall: 0.8276\n",
      "F1-Score: 0.8015\n"
     ]
    }
   ],
   "source": [
    "best_model_xgb_tunning_random = model_xgb_tunning_random.best_estimator_\n",
    "y_val_pred_xgb_tunning_random = best_model_xgb_tunning_random.predict(X_val)\n",
    "report_xgb_tunning_random = classification_report(y_val, y_val_pred_xgb_tunning_random)\n",
    "print(\"Classification Report xgb Prediction :\")\n",
    "print(report_xgb_tunning_random)\n",
    "\n",
    "cm_xgb_tunning_random = confusion_matrix(y_val, y_val_pred_xgb_tunning_random)\n",
    "print(\"\\nConfusion Matrix:\")\n",
    "print(cm_xgb_tunning_random)\n",
    "print(f\"Precision: {precision_score(y_val, y_val_pred_xgb_tunning_random, zero_division=0):.4f}\")\n",
    "print(f\"Recall: {recall_score(y_val, y_val_pred_xgb_tunning_random ):.4f}\")\n",
    "print(f\"F1-Score: {f1_score(y_val, y_val_pred_xgb_tunning_random , zero_division=0):.4f}\")"
   ]
  },
  {
   "cell_type": "code",
   "execution_count": 157,
   "metadata": {},
   "outputs": [
    {
     "name": "stdout",
     "output_type": "stream",
     "text": [
      "Classification Report RF Prediction :\n",
      "              precision    recall  f1-score   support\n",
      "\n",
      "           0       0.81      0.78      0.80       863\n",
      "           1       0.79      0.82      0.80       876\n",
      "\n",
      "    accuracy                           0.80      1739\n",
      "   macro avg       0.80      0.80      0.80      1739\n",
      "weighted avg       0.80      0.80      0.80      1739\n",
      "\n",
      "\n",
      "Confusion Matrix:\n",
      "[[676 187]\n",
      " [161 715]]\n",
      "Precision: 0.7927\n",
      "Recall: 0.8162\n",
      "F1-Score: 0.8043\n"
     ]
    }
   ],
   "source": [
    "best_model_RF_tunning_random = model_rf_tunning_random.best_estimator_\n",
    "y_val_pred_RF_tunning_random = best_model_RF_tunning_random.predict(X_val)\n",
    "report_RF_tunning_random     = classification_report(y_val, y_val_pred_RF_tunning_random )\n",
    "print(\"Classification Report RF Prediction :\")\n",
    "print(report_RF_tunning_random)\n",
    "\n",
    "cm_RF_tunning_random         = confusion_matrix(y_val, y_val_pred_RF_tunning_random )\n",
    "print(\"\\nConfusion Matrix:\")\n",
    "print(cm_RF_tunning)\n",
    "print(f\"Precision: {precision_score(y_val, y_val_pred_RF_tunning_random , zero_division=0):.4f}\")\n",
    "print(f\"Recall: {recall_score(y_val, y_val_pred_RF_tunning_random  ):.4f}\")\n",
    "print(f\"F1-Score: {f1_score(y_val, y_val_pred_RF_tunning_random  , zero_division=0):.4f}\")"
   ]
  },
  {
   "cell_type": "markdown",
   "metadata": {},
   "source": [
    "Tunning : BayesSearchCV (Bayesian Optimizer)"
   ]
  },
  {
   "cell_type": "code",
   "execution_count": 158,
   "metadata": {},
   "outputs": [
    {
     "name": "stdout",
     "output_type": "stream",
     "text": [
      "Classification Report RF Prediction :\n",
      "              precision    recall  f1-score   support\n",
      "\n",
      "           0       0.81      0.78      0.79       863\n",
      "           1       0.79      0.81      0.80       876\n",
      "\n",
      "    accuracy                           0.80      1739\n",
      "   macro avg       0.80      0.80      0.80      1739\n",
      "weighted avg       0.80      0.80      0.80      1739\n",
      "\n",
      "\n",
      "Confusion Matrix:\n",
      "[[675 188]\n",
      " [163 713]]\n",
      "Precision: 0.7913\n",
      "Recall: 0.8139\n",
      "F1-Score: 0.8025\n"
     ]
    }
   ],
   "source": [
    "best_model_RF_tunning_bayes = model_rf_tunning_bayes.best_estimator_\n",
    "y_val_pred_RF_tunning_bayes = best_model_RF_tunning_bayes.predict(X_val)\n",
    "report_RF_tunning_bayes     = classification_report(y_val, y_val_pred_RF_tunning_bayes)\n",
    "print(\"Classification Report RF Prediction :\")\n",
    "print(report_RF_tunning_bayes)\n",
    "\n",
    "cm_RF_tunning_bayes         = confusion_matrix(y_val, y_val_pred_RF_tunning_bayes)\n",
    "print(\"\\nConfusion Matrix:\")\n",
    "print(cm_RF_tunning_bayes)\n",
    "print(f\"Precision: {precision_score(y_val, y_val_pred_RF_tunning_bayes, zero_division=0):.4f}\")\n",
    "print(f\"Recall: {recall_score(y_val, y_val_pred_RF_tunning_bayes ):.4f}\")\n",
    "print(f\"F1-Score: {f1_score(y_val, y_val_pred_RF_tunning_bayes, zero_division=0):.4f}\")"
   ]
  },
  {
   "cell_type": "code",
   "execution_count": 154,
   "metadata": {},
   "outputs": [
    {
     "name": "stdout",
     "output_type": "stream",
     "text": [
      "Classification Report xgb Prediction :\n",
      "              precision    recall  f1-score   support\n",
      "\n",
      "           0       0.81      0.79      0.80       863\n",
      "           1       0.79      0.82      0.81       876\n",
      "\n",
      "    accuracy                           0.80      1739\n",
      "   macro avg       0.80      0.80      0.80      1739\n",
      "weighted avg       0.80      0.80      0.80      1739\n",
      "\n",
      "\n",
      "Confusion Matrix:\n",
      "[[678 185]\n",
      " [159 717]]\n",
      "Precision: 0.7949\n",
      "Recall: 0.8185\n",
      "F1-Score: 0.8065\n"
     ]
    }
   ],
   "source": [
    "best_model_xgb_tunning_bayes = model_xgb_tunning_bayes.best_estimator_\n",
    "y_val_pred_xgb_tunning_bayes = best_model_xgb_tunning_bayes.predict(X_val)\n",
    "report_xgb_tunning_bayes = classification_report(y_val, y_val_pred_xgb_tunning_bayes)\n",
    "print(\"Classification Report xgb Prediction :\")\n",
    "print(report_xgb_tunning_bayes)\n",
    "\n",
    "cm_xgb_tunning_bayes = confusion_matrix(y_val, y_val_pred_xgb_tunning_bayes)\n",
    "print(\"\\nConfusion Matrix:\")\n",
    "print(cm_xgb_tunning_bayes)\n",
    "print(f\"Precision: {precision_score(y_val, y_val_pred_xgb_tunning_bayes, zero_division=0):.4f}\")\n",
    "print(f\"Recall: {recall_score(y_val, y_val_pred_xgb_tunning_bayes ):.4f}\")\n",
    "print(f\"F1-Score: {f1_score(y_val, y_val_pred_xgb_tunning_bayes , zero_division=0):.4f}\")"
   ]
  },
  {
   "cell_type": "code",
   "execution_count": 156,
   "metadata": {},
   "outputs": [
    {
     "name": "stdout",
     "output_type": "stream",
     "text": [
      "Classification Report KNN Prediction :\n",
      "              precision    recall  f1-score   support\n",
      "\n",
      "           0       0.81      0.76      0.78       863\n",
      "           1       0.77      0.82      0.80       876\n",
      "\n",
      "    accuracy                           0.79      1739\n",
      "   macro avg       0.79      0.79      0.79      1739\n",
      "weighted avg       0.79      0.79      0.79      1739\n",
      "\n",
      "\n",
      "Confusion Matrix:\n",
      "[[653 210]\n",
      " [154 722]]\n",
      "Precision: 0.7747\n",
      "Recall: 0.8242\n",
      "F1-Score: 0.7987\n"
     ]
    }
   ],
   "source": [
    "best_model_KNN_tunning_bayes = model_KNN_tunning_bayes.best_estimator_\n",
    "y_val_pred_KNN_tunning_bayes = best_model_KNN_tunning_bayes.predict(X_val)\n",
    "report_KNN_tunning_bayes     = classification_report(y_val, y_val_pred_KNN_tunning_bayes)\n",
    "print(\"Classification Report KNN Prediction :\")\n",
    "print(report_KNN_tunning_bayes)\n",
    "\n",
    "cm_KNN_tunning_bayes         = confusion_matrix(y_val, y_val_pred_KNN_tunning_bayes)\n",
    "print(\"\\nConfusion Matrix:\")\n",
    "print(cm_KNN_tunning_bayes)\n",
    "print(f\"Precision: {precision_score(y_val, y_val_pred_KNN_tunning_bayes, zero_division=0):.4f}\")\n",
    "print(f\"Recall: {recall_score(y_val, y_val_pred_KNN_tunning_bayes ):.4f}\")\n",
    "print(f\"F1-Score: {f1_score(y_val, y_val_pred_KNN_tunning_bayes, zero_division=0):.4f}\")"
   ]
  },
  {
   "cell_type": "markdown",
   "metadata": {},
   "source": [
    "## **d. Evaluasi Model Klasifikasi setelah Tuning (Optional)**"
   ]
  },
  {
   "cell_type": "markdown",
   "metadata": {},
   "source": [
    "Berikut adalah rekomendasi tahapannya.\n",
    "1. Gunakan model dengan hyperparameter terbaik.\n",
    "2. Hitung ulang metrik evaluasi untuk melihat apakah ada peningkatan performa."
   ]
  },
  {
   "cell_type": "code",
   "execution_count": null,
   "metadata": {},
   "outputs": [],
   "source": []
  },
  {
   "cell_type": "markdown",
   "metadata": {},
   "source": [
    "## **e. Analisis Hasil Evaluasi Model Klasifikasi**"
   ]
  },
  {
   "cell_type": "markdown",
   "metadata": {},
   "source": [
    "Berikut adalah **rekomendasi** tahapannya.\n",
    "1. Bandingkan hasil evaluasi sebelum dan setelah tuning (jika dilakukan).\n",
    "2. Identifikasi kelemahan model, seperti:\n",
    "  - Precision atau Recall rendah untuk kelas tertentu.\n",
    "  - Apakah model mengalami overfitting atau underfitting?\n",
    "3. Berikan rekomendasi tindakan lanjutan, seperti mengumpulkan data tambahan atau mencoba algoritma lain jika hasil belum memuaskan."
   ]
  },
  {
   "cell_type": "markdown",
   "metadata": {},
   "source": [
    "**Sebelum Tuning:**\n",
    "- **KNN:**\n",
    "  - Akurasi: 0.79\n",
    "  - Precision (Kelas 1.0): 0.77\n",
    "  - Recall (Kelas 1.0): 0.82\n",
    "  - F1-Score (Kelas 1.0): 0.80\n",
    "\n",
    "- **XGBoost:**\n",
    "  - Akurasi: 0.80\n",
    "  - Precision (Kelas 1.0): 0.79\n",
    "  - Recall (Kelas 1.0): 0.82\n",
    "  - F1-Score (Kelas 1.0): 0.80\n",
    "\n",
    "- **Random Forest:**\n",
    "  - Akurasi: 0.80\n",
    "  - Precision (Kelas 1.0): 0.79\n",
    "  - Recall (Kelas 1.0): 0.82\n",
    "  - F1-Score (Kelas 1.0): 0.80\n",
    "\n",
    "**Setelah Tuning (Bayesian):**\n",
    "- **KNN:**\n",
    "  - Akurasi: 0.79\n",
    "  - Precision (Kelas 1.0): 0.77\n",
    "  - Recall (Kelas 1.0): 0.82\n",
    "  - F1-Score (Kelas 1.0): 0.80\n",
    "\n",
    "- **XGBoost:**\n",
    "  - Akurasi: 0.80\n",
    "  - Precision (Kelas 1.0): 0.79\n",
    "  - Recall (Kelas 1.0): 0.82\n",
    "  - F1-Score (Kelas 1.0): 0.81\n",
    "\n",
    "- **Random Forest:**\n",
    "  - Akurasi: 0.80\n",
    "  - Precision (Kelas 1.0): 0.79\n",
    "  - Recall (Kelas 1.0): 0.81\n",
    "  - F1-Score (Kelas 1.0): 0.80\n",
    "\n",
    "**Kesimpulan:**\n",
    "- Performa model **tidak mengalami perubahan signifikan** setelah tuning.\n",
    "  - Akurasi, Precision, Recall, dan F1-Score untuk semua model (KNN, XGBoost, Random Forest) tetap stabil.\n",
    "  - XGBoost menunjukkan sedikit peningkatan pada F1-Score (dari 0.80 menjadi 0.81) setelah tuning.\n",
    "  - Hal ini menunjukkan bahwa hyperparameter tuning yang dilakukan mungkin sudah mendekati optimal atau perlu dievaluasi kembali dengan metode tuning yang lebih canggih.\n",
    "\n",
    "**Kelemahan Model:**\n",
    "1. **Precision dan Recall yang Seimbang Tetapi Tidak Tinggi:**\n",
    "   - Meskipun Precision dan Recall seimbang (sekitar 0.79-0.82), nilai ini masih tergolong sedang. Model mungkin masih memiliki ruang untuk meningkatkan performa.\n",
    "\n",
    "2. **KNN Memiliki Performa yang Lebih Rendah:**\n",
    "   - KNN memiliki akurasi dan F1-Score yang sedikit lebih rendah (0.79) dibandingkan XGBoost dan Random Forest (0.80). Ini menunjukkan bahwa KNN mungkin kurang cocok untuk dataset ini.\n",
    "\n",
    "3. **Potensi Overfitting atau Underfitting:**\n",
    "   - Jika akurasi pada data pelatihan jauh lebih tinggi daripada data validasi, model mungkin overfitting.\n",
    "   - Jika akurasi pada data pelatihan dan validasi rendah, model mungkin underfitting.\n",
    "   - Perlu dicek perbedaan akurasi antara data pelatihan dan validasi untuk memastikan apakah model overfitting atau underfitting.\n",
    "\n",
    "4. **Tidak Ada Peningkatan Signifikan Setelah Tuning:**\n",
    "   - Hasil tuning tidak memberikan peningkatan yang signifikan, menunjukkan bahwa hyperparameter yang digunakan mungkin sudah mendekati optimal atau perlu dievaluasi kembali.\n",
    "\n",
    "**Rekomendasi Tindakan Lanjutan:**\n",
    "1. **Evaluasi Hyperparameter Tuning:**\n",
    "   - Periksa kembali hyperparameter yang digunakan dalam tuning. Mungkin perlu mencoba kombinasi hyperparameter yang berbeda atau menggunakan metode tuning lain seperti GridSearchCV.\n",
    "\n",
    "2. **Mengumpulkan Data Tambahan:**\n",
    "   - Jika dataset kecil, pertimbangkan untuk mengumpulkan lebih banyak data, terutama untuk kelas minoritas (jika ada ketidakseimbangan kelas).\n",
    "\n",
    "3. **Mencoba Algoritma Lain:**\n",
    "   - Jika hasil belum memuaskan, coba algoritma lain seperti LightGBM, CatBoost, atau Support Vector Machine (SVM).\n",
    "\n",
    "4. **Mengatasi Overfitting/Underfitting:**\n",
    "   - Jika model overfitting, pertimbangkan untuk:\n",
    "     - Mengurangi kompleksitas model (misalnya, mengurangi depth pada RandomForest atau XGBoost).\n",
    "     - Menerapkan teknik regularisasi.\n",
    "   - Jika model underfitting, pertimbangkan untuk:\n",
    "     - Meningkatkan kompleksitas model (misalnya, menambah depth pada RandomForest atau XGBoost).\n",
    "     - Menambah fitur atau menggunakan teknik feature engineering.\n",
    "\n",
    "5. **Menggunakan Teknik Handling Class Imbalance:**\n",
    "   - Jika ada ketidakseimbangan kelas, pertimbangkan untuk menggunakan teknik seperti SMOTE (Synthetic Minority Over-sampling Technique) atau undersampling.\n",
    "\n",
    "6. **Fokus pada XGBoost:**\n",
    "   - XGBoost menunjukkan performa terbaik setelah tuning (F1-Score 0.81). Fokuskan upaya tuning dan optimasi pada model ini untuk hasil yang lebih baik."
   ]
  },
  {
   "cell_type": "markdown",
   "metadata": {},
   "source": []
  }
 ],
 "metadata": {
  "kernelspec": {
   "display_name": "Python 3",
   "language": "python",
   "name": "python3"
  },
  "language_info": {
   "codemirror_mode": {
    "name": "ipython",
    "version": 3
   },
   "file_extension": ".py",
   "mimetype": "text/x-python",
   "name": "python",
   "nbconvert_exporter": "python",
   "pygments_lexer": "ipython3",
   "version": "3.12.4"
  }
 },
 "nbformat": 4,
 "nbformat_minor": 2
}
